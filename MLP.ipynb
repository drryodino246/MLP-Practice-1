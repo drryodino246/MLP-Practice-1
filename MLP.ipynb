{
 "cells": [
  {
   "cell_type": "markdown",
   "id": "763f5a6a",
   "metadata": {},
   "source": [
    "### MLP Practice 1"
   ]
  },
  {
   "cell_type": "markdown",
   "id": "49612b86",
   "metadata": {},
   "source": []
  }
 ],
 "metadata": {
  "language_info": {
   "name": "python"
  }
 },
 "nbformat": 4,
 "nbformat_minor": 5
}
